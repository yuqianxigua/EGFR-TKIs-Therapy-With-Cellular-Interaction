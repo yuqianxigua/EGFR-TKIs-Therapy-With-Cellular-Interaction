{
 "cells": [
  {
   "cell_type": "code",
   "execution_count": 2,
   "metadata": {},
   "outputs": [
    {
     "data": {
      "image/png": "[encoded data removed]",
      "text/plain": [
       "<Figure size 432x288 with 1 Axes>"
      ]
     },
     "metadata": {
      "needs_background": "light"
     },
     "output_type": "display_data"
    }
   ],
   "source": [
    "## drug switch time, B to A\n",
    "\n",
    "#!/usr/bin/python\n",
    "\n",
    "import numpy as np \n",
    "from scipy.integrate import odeint \n",
    "import matplotlib.pyplot as plt\n",
    "\n",
    "def dyna(x, t, *arg):\n",
    "    (qxw, pxw, qzw, pzw, qzx, pzx, qzy, pzy, a, b, c, f, g, h, k, p, q ) = arg\n",
    "    dw = ((qxw*(x[1]/(x[0]+α)))/(pxw+(x[1]/(x[0]+α))) + ((qzw*(x[3]/(x[0]+α)))/(pzw+(x[3]/(x[0]+α))))+a)*x[0] \n",
    "    dx = g*x[0] + (((qzx*(x[3]/(x[1]+α)))/(pzx+(x[3]/(x[1]+α))))+b)*x[1]\n",
    "    dy = h*x[0] + (((qzy*(x[3]/(x[2]+α)))/(pzy+(x[3]/(x[2]+α))))+c)*x[2]\n",
    "    dz = k*x[0] + p*x[1] + q*x[2] + f*x[3]\n",
    "    return np.array([dw, dx, dy, dz])\n",
    "\n",
    "def dynb(x, t, *arg):\n",
    "    (qyw, pyw, qzw, pzw, qzx, pzx, qzy, pzy, a, b, c, f, g, h, k, p, q ) = arg\n",
    "    dw = ((qyw*(x[2]/(x[0]+α)))/(pyw+(x[2]/(x[0]+α))) + ((qzw*(x[3]/(x[0]+α)))/(pzw+(x[3]/(x[0]+α))))+a)*x[0] \n",
    "    dx = g*x[0] + (((qzx*(x[3]/(x[1]+α)))/(pzx+(x[3]/(x[1]+α))))+b)*x[1]\n",
    "    dy = h*x[0] + (((qzy*(x[3]/(x[2]+α)))/(pzy+(x[3]/(x[2]+α))))+c)*x[2]\n",
    "    dz = k*x[0] + p*x[1] + q*x[2] + f*x[3]\n",
    "    return np.array([dw, dx, dy, dz])   \n",
    "\n",
    "α = 0.00000001    \n",
    "    \n",
    "initial_N = 10**9\n",
    "X = 10**4\n",
    "Y = 10**4\n",
    "Z = 10\n",
    "W = initial_N-X-Y-Z\n",
    "\n",
    "tim = []\n",
    "total = []\n",
    "output = []\n",
    "t_end = 1000\n",
    "\n",
    "qxw = 0.08\n",
    "pxw = 0.0009\n",
    "pyw = 0.08\n",
    "qyw = 0.0009\n",
    "qzw = 0.06\n",
    "pzw = 0.0009\n",
    "qzx = 0.07\n",
    "pzx = 0.0009\n",
    "qzy = 0.007\n",
    "pzy = 0.0009\n",
    "\n",
    "aA = -0.17\n",
    "bA = 0.008\n",
    "cA = -0.137\n",
    "\n",
    "aB = -0.321\n",
    "bB = -0.187\n",
    "cB = 0.0203\n",
    "\n",
    "f = 0.022\n",
    "g = 0.0000001 \n",
    "h = 0.0000001 \n",
    "k = 0.0000001 \n",
    "p = 0.0000001 \n",
    "q = 0.0000001\n",
    "\n",
    "paramsA = (qxw, pxw, qzw, pzw, qzx, pzx, qzy, pzy, aA, bA, cA, f, g, h, k, p, q )\n",
    "paramsB = (qyw, pyw, qzw, pzw, qzx, pzx, qzy, pzy, aB, bB, cB, f, g, h, k, p, q )\n",
    "\n",
    "for t in np.arange(1, 1000, 1):\n",
    "    tan = t\n",
    "    cell_init = (W, X, Y, Z)\n",
    "    list_t = np.arange(0, tan, 0.01) \n",
    "    list_t1 = np.arange(tan, t_end, 0.01) \n",
    "    cells = odeint(dynb, cell_init, list_t, args = paramsB) \n",
    "    i = len(list_t)-1\n",
    "    cell1_init = [cells[i, 0], cells[i, 1], cells[i, 2], cells[i, 3]]    \n",
    "    cell1 = odeint(dyna, cell1_init, list_t1, args = paramsA) \n",
    "    celltotal1 = cell1[:, 0] + cell1[:, 1] + cell1[:, 2] + cell1[:, 3]\n",
    "    tim.append(t) \n",
    "    total.append(celltotal1[-1]) \n",
    "\n",
    "fig = plt.figure()\n",
    "ax = fig.add_subplot(111)\n",
    "# print(tim[94], total[94],'\\n',tim[144], total[144],'\\n',tim[194], total[194],'\\n',tim[294], total[294])\n",
    "ax.plot(tim, total, label='total cell numbers')\n",
    "ax.legend()\n",
    "\n",
    "# ax.set_yscale('log')\n",
    "ax.set_xlim(0, 1000)\n",
    "ax.set_ylim(1*(10**12),1.5*(10**12))\n",
    "ax.set_xlabel('switch time')\n",
    "ax.set_ylabel('total cell number at time 1000') \n",
    "ax.set_title('DrugBA_10^9/^4x^4y10z')\n",
    "\n",
    "plt.show()\n"
   ]
  },
  {
   "cell_type": "code",
   "execution_count": null,
   "metadata": {},
   "outputs": [],
   "source": []
  }
 ],
 "metadata": {
  "kernelspec": {
   "display_name": "Python 3",
   "language": "python",
   "name": "python3"
  },
  "language_info": {
   "codemirror_mode": {
    "name": "ipython",
    "version": 3
   },
   "file_extension": ".py",
   "mimetype": "text/x-python",
   "name": "python",
   "nbconvert_exporter": "python",
   "pygments_lexer": "ipython3",
   "version": "3.8.8"
  }
 },
 "nbformat": 4,
 "nbformat_minor": 2
}
