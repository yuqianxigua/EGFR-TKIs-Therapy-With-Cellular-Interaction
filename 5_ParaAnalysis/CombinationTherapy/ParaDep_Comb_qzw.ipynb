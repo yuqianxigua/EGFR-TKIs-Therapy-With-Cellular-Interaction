{
 "cells": [
  {
   "cell_type": "code",
   "execution_count": 2,
   "id": "ae5ad016",
   "metadata": {},
   "outputs": [
    {
     "data": {
      "image/png": "[encoded data removed]",
      "text/plain": [
       "<Figure size 432x288 with 1 Axes>"
      ]
     },
     "metadata": {
      "needs_background": "light"
     },
     "output_type": "display_data"
    },
    {
     "data": {
      "text/plain": [
       "<Figure size 432x288 with 0 Axes>"
      ]
     },
     "metadata": {},
     "output_type": "display_data"
    }
   ],
   "source": [
    "#!/usr/bin/python\n",
    "\n",
    "import numpy as np \n",
    "from scipy.integrate import odeint \n",
    "import matplotlib.pyplot as plt\n",
    "import matplotlib as mpl\n",
    "\n",
    "def dync(x, t, *arg):\n",
    "    (qzw, pzw, qzx, pzx, qzy, pzy, a, b, c, f, g, h, k, p, q ) = arg\n",
    "    dw = ((qzw*(x[3]/(x[0]+α)))/(pzw+(x[3]/(x[0]+α)))+a)*x[0] \n",
    "    dx = g*x[0] + (((qzx*(x[3]/(x[1]+α)))/(pzx+(x[3]/(x[1]+α))))+b)*x[1]\n",
    "    dy = h*x[0] + (((qzy*(x[3]/(x[2]+α)))/(pzy+(x[3]/(x[2]+α))))+c)*x[2]\n",
    "    dz = k*x[0] + p*x[1] + q*x[2] + f*x[3]\n",
    "    return np.array([dw, dx, dy, dz])\n",
    "\n",
    "α = 0.00000001 \n",
    "\n",
    "initial_N = 10**9\n",
    "X = 10**4\n",
    "Y = 10**4\n",
    "Z = 10\n",
    "W = initial_N-X-Y-Z\n",
    "t_end = 1000\n",
    "\n",
    "# qzw = 0.2\n",
    "pzw = 0.0009\n",
    "qzx = 0.025\n",
    "pzx = 0.0009\n",
    "qzy = 0.025\n",
    "pzy = 0.0009\n",
    "\n",
    "a = -0.064\n",
    "b = -0.03355\n",
    "c = -0.03355\n",
    "\n",
    "f = 0.022\n",
    "g = 0.0000001 \n",
    "h = 0.0000001 \n",
    "k = 0.0000001 \n",
    "p = 0.0000001 \n",
    "q = 0.0000001\n",
    "\n",
    "x = list()\n",
    "finalnumber = list()\n",
    "\n",
    "for qzw in np.arange(0.01, 0.5, 0.01):\n",
    "    x.append(qzw)\n",
    "    paramsC = (qzw, pzw, qzx, pzx, qzx, pzy, a, b, c, f, g, h, k, p, q )\n",
    "    list_t = np.arange(0, t_end, 0.01)\n",
    "    cell_init = (W, X, Y, Z)\n",
    "    cells = odeint(dync, cell_init, list_t, args = paramsC)\n",
    "    celltotal = cells[:, 0] + cells[:, 1] + cells[:, 2] + cells[:, 3]\n",
    "    finalnumber.append(celltotal[-1])\n",
    "\n",
    "fig = plt.figure()\n",
    "ax = fig.add_subplot(111)\n",
    "ax.plot(x, finalnumber)\n",
    "fig = plt.figure()\n",
    "\n",
    "ax.legend('total cell number')\n",
    "\n",
    "ax.set_yscale('log')\n",
    "\n",
    "# ax.set_xlim(0, 1)\n",
    "ax.set_ylim(10**11, 10**18)\n",
    "ax.set_xlabel('qzw')\n",
    "ax.set_ylabel('cell number at time 1000') \n",
    "ax.set_title('drugA+B|initiall cell#=10^9, x=y=10^4, z=10')\n",
    "\n",
    "plt.show()"
   ]
  },
  {
   "cell_type": "code",
   "execution_count": null,
   "id": "eaacb123",
   "metadata": {},
   "outputs": [],
   "source": []
  }
 ],
 "metadata": {
  "kernelspec": {
   "display_name": "Python 3",
   "language": "python",
   "name": "python3"
  },
  "language_info": {
   "codemirror_mode": {
    "name": "ipython",
    "version": 3
   },
   "file_extension": ".py",
   "mimetype": "text/x-python",
   "name": "python",
   "nbconvert_exporter": "python",
   "pygments_lexer": "ipython3",
   "version": "3.8.8"
  }
 },
 "nbformat": 4,
 "nbformat_minor": 5
}
